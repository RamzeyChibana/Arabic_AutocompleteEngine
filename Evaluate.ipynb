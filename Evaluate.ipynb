{
 "cells": [
  {
   "cell_type": "code",
   "execution_count": 35,
   "metadata": {},
   "outputs": [],
   "source": [
    "import pandas as pd \n",
    "import numpy as np \n"
   ]
  },
  {
   "cell_type": "code",
   "execution_count": 36,
   "metadata": {},
   "outputs": [],
   "source": [
    "corpus = pd.read_csv(\"Corpus.csv\")"
   ]
  },
  {
   "cell_type": "code",
   "execution_count": 37,
   "metadata": {},
   "outputs": [
    {
     "data": {
      "text/html": [
       "<div>\n",
       "<style scoped>\n",
       "    .dataframe tbody tr th:only-of-type {\n",
       "        vertical-align: middle;\n",
       "    }\n",
       "\n",
       "    .dataframe tbody tr th {\n",
       "        vertical-align: top;\n",
       "    }\n",
       "\n",
       "    .dataframe thead th {\n",
       "        text-align: right;\n",
       "    }\n",
       "</style>\n",
       "<table border=\"1\" class=\"dataframe\">\n",
       "  <thead>\n",
       "    <tr style=\"text-align: right;\">\n",
       "      <th></th>\n",
       "      <th>name</th>\n",
       "      <th>0</th>\n",
       "      <th>1</th>\n",
       "      <th>2</th>\n",
       "      <th>3</th>\n",
       "      <th>4</th>\n",
       "      <th>5</th>\n",
       "      <th>6</th>\n",
       "      <th>7</th>\n",
       "      <th>8</th>\n",
       "      <th>9</th>\n",
       "    </tr>\n",
       "  </thead>\n",
       "  <tbody>\n",
       "    <tr>\n",
       "      <th>0</th>\n",
       "      <td>احتفظ</td>\n",
       "      <td>البريطاني|3</td>\n",
       "      <td>الصربي|2</td>\n",
       "      <td>بلقبه|2</td>\n",
       "      <td>بنفيكا|1</td>\n",
       "      <td>بفانيلته|1</td>\n",
       "      <td>بميدالية|1</td>\n",
       "      <td>برشلونة|1</td>\n",
       "      <td>فان|1</td>\n",
       "      <td>الملاكم|1</td>\n",
       "      <td>به|1</td>\n",
       "    </tr>\n",
       "    <tr>\n",
       "      <th>1</th>\n",
       "      <td>بنفيكا</td>\n",
       "      <td>البرتغالي|75</td>\n",
       "      <td>[توكن]|21</td>\n",
       "      <td>الذي|9</td>\n",
       "      <td>في|9</td>\n",
       "      <td>على|7</td>\n",
       "      <td>بطل|6</td>\n",
       "      <td>من|5</td>\n",
       "      <td>رصيده|5</td>\n",
       "      <td>حامل|4</td>\n",
       "      <td>المتصدر|4</td>\n",
       "    </tr>\n",
       "    <tr>\n",
       "      <th>2</th>\n",
       "      <td>بمركز</td>\n",
       "      <td>الصدارة|3</td>\n",
       "      <td>الوصيف|2</td>\n",
       "      <td>الرقم|2</td>\n",
       "      <td>واحد|2</td>\n",
       "      <td>اساسي|1</td>\n",
       "      <td>معينودفع|1</td>\n",
       "      <td>الانطلاق|1</td>\n",
       "      <td>NaN</td>\n",
       "      <td>NaN</td>\n",
       "      <td>NaN</td>\n",
       "    </tr>\n",
       "    <tr>\n",
       "      <th>3</th>\n",
       "      <td>الصدارة</td>\n",
       "      <td>بفارق|88</td>\n",
       "      <td>[توكن]|72</td>\n",
       "      <td>برصيد|48</td>\n",
       "      <td>في|40</td>\n",
       "      <td>بفوزه|25</td>\n",
       "      <td>من|25</td>\n",
       "      <td>بعد|23</td>\n",
       "      <td>مع|17</td>\n",
       "      <td>عندما|16</td>\n",
       "      <td>إلى|14</td>\n",
       "    </tr>\n",
       "    <tr>\n",
       "      <th>4</th>\n",
       "      <td>بعد</td>\n",
       "      <td>أن|1019</td>\n",
       "      <td>[توكن]|500</td>\n",
       "      <td>ان|471</td>\n",
       "      <td>فوزه|278</td>\n",
       "      <td>تمريرة|256</td>\n",
       "      <td>المباراة|164</td>\n",
       "      <td>طرد|162</td>\n",
       "      <td>غد|148</td>\n",
       "      <td>الفوز|137</td>\n",
       "      <td>مرور|131</td>\n",
       "    </tr>\n",
       "  </tbody>\n",
       "</table>\n",
       "</div>"
      ],
      "text/plain": [
       "      name             0           1         2         3           4  \\\n",
       "0    احتفظ   البريطاني|3    الصربي|2   بلقبه|2  بنفيكا|1  بفانيلته|1   \n",
       "1   بنفيكا  البرتغالي|75   [توكن]|21    الذي|9      في|9       على|7   \n",
       "2    بمركز     الصدارة|3    الوصيف|2   الرقم|2    واحد|2     اساسي|1   \n",
       "3  الصدارة      بفارق|88   [توكن]|72  برصيد|48     في|40    بفوزه|25   \n",
       "4      بعد       أن|1019  [توكن]|500    ان|471  فوزه|278  تمريرة|256   \n",
       "\n",
       "              5           6        7          8          9  \n",
       "0    بميدالية|1   برشلونة|1    فان|1  الملاكم|1       به|1  \n",
       "1         بطل|6        من|5  رصيده|5     حامل|4  المتصدر|4  \n",
       "2    معينودفع|1  الانطلاق|1      NaN        NaN        NaN  \n",
       "3         من|25      بعد|23    مع|17   عندما|16     إلى|14  \n",
       "4  المباراة|164     طرد|162   غد|148  الفوز|137   مرور|131  "
      ]
     },
     "execution_count": 37,
     "metadata": {},
     "output_type": "execute_result"
    }
   ],
   "source": [
    "corpus.head()"
   ]
  },
  {
   "cell_type": "code",
   "execution_count": 46,
   "metadata": {},
   "outputs": [
    {
     "data": {
      "text/html": [
       "<div>\n",
       "<style scoped>\n",
       "    .dataframe tbody tr th:only-of-type {\n",
       "        vertical-align: middle;\n",
       "    }\n",
       "\n",
       "    .dataframe tbody tr th {\n",
       "        vertical-align: top;\n",
       "    }\n",
       "\n",
       "    .dataframe thead th {\n",
       "        text-align: right;\n",
       "    }\n",
       "</style>\n",
       "<table border=\"1\" class=\"dataframe\">\n",
       "  <thead>\n",
       "    <tr style=\"text-align: right;\">\n",
       "      <th></th>\n",
       "      <th>name</th>\n",
       "      <th>0</th>\n",
       "      <th>1</th>\n",
       "      <th>2</th>\n",
       "      <th>3</th>\n",
       "      <th>4</th>\n",
       "      <th>5</th>\n",
       "      <th>6</th>\n",
       "      <th>7</th>\n",
       "      <th>8</th>\n",
       "      <th>9</th>\n",
       "    </tr>\n",
       "  </thead>\n",
       "  <tbody>\n",
       "    <tr>\n",
       "      <th>209</th>\n",
       "      <td>برشلونة</td>\n",
       "      <td>في|365</td>\n",
       "      <td>الإسباني|324</td>\n",
       "      <td>[توكن]|143</td>\n",
       "      <td>على|118</td>\n",
       "      <td>الذي|110</td>\n",
       "      <td>حامل|77</td>\n",
       "      <td>إلى|72</td>\n",
       "      <td>|72</td>\n",
       "      <td>من|69</td>\n",
       "      <td>وريال|62</td>\n",
       "    </tr>\n",
       "  </tbody>\n",
       "</table>\n",
       "</div>"
      ],
      "text/plain": [
       "        name       0             1           2        3         4        5  \\\n",
       "209  برشلونة  في|365  الإسباني|324  [توكن]|143  على|118  الذي|110  حامل|77   \n",
       "\n",
       "          6    7      8         9  \n",
       "209  إلى|72  |72  من|69  وريال|62  "
      ]
     },
     "execution_count": 46,
     "metadata": {},
     "output_type": "execute_result"
    }
   ],
   "source": [
    "corpus.loc[corpus[\"name\"]==\"برشلونة\"]"
   ]
  },
  {
   "cell_type": "code",
   "execution_count": 132,
   "metadata": {},
   "outputs": [
    {
     "name": "stdout",
     "output_type": "stream",
     "text": [
      "ي\n"
     ]
    },
    {
     "ename": "ValueError",
     "evalue": "not enough values to unpack (expected 2, got 1)",
     "output_type": "error",
     "traceback": [
      "\u001b[1;31m---------------------------------------------------------------------------\u001b[0m",
      "\u001b[1;31mValueError\u001b[0m                                Traceback (most recent call last)",
      "Input \u001b[1;32mIn [132]\u001b[0m, in \u001b[0;36m<cell line: 45>\u001b[1;34m()\u001b[0m\n\u001b[0;32m     42\u001b[0m     \u001b[38;5;28;01mreturn\u001b[39;00m recomanded\n\u001b[0;32m     43\u001b[0m text \u001b[38;5;241m=\u001b[39m \u001b[38;5;124m\"\u001b[39m\u001b[38;5;124mفاز ليونيل\u001b[39m\u001b[38;5;124m\"\u001b[39m\n\u001b[1;32m---> 45\u001b[0m recomanded \u001b[38;5;241m=\u001b[39m \u001b[43mreccomand\u001b[49m\u001b[43m(\u001b[49m\u001b[43mtext\u001b[49m\u001b[43m)\u001b[49m\n\u001b[0;32m     46\u001b[0m \u001b[38;5;28mprint\u001b[39m(recomanded)\n",
      "Input \u001b[1;32mIn [132]\u001b[0m, in \u001b[0;36mreccomand\u001b[1;34m(text, thershold)\u001b[0m\n\u001b[0;32m     36\u001b[0m word \u001b[38;5;241m=\u001b[39m word[\u001b[38;5;241m-\u001b[39m\u001b[38;5;241m1\u001b[39m]\n\u001b[0;32m     37\u001b[0m result \u001b[38;5;241m=\u001b[39m corpus\u001b[38;5;241m.\u001b[39mloc[corpus[\u001b[38;5;124m\"\u001b[39m\u001b[38;5;124mname\u001b[39m\u001b[38;5;124m\"\u001b[39m]\u001b[38;5;241m==\u001b[39mword]\u001b[38;5;241m.\u001b[39msqueeze()\n\u001b[1;32m---> 38\u001b[0m result \u001b[38;5;241m=\u001b[39m \u001b[43mget_values\u001b[49m\u001b[43m(\u001b[49m\u001b[43mresult\u001b[49m\u001b[43m)\u001b[49m\n\u001b[0;32m     39\u001b[0m probs \u001b[38;5;241m=\u001b[39m get_probibilties(result,threshold\u001b[38;5;241m=\u001b[39mthershold)\n\u001b[0;32m     40\u001b[0m recomanded \u001b[38;5;241m=\u001b[39m sample_distrubtion(probs)\n",
      "Input \u001b[1;32mIn [132]\u001b[0m, in \u001b[0;36mget_values\u001b[1;34m(result, touken)\u001b[0m\n\u001b[0;32m      5\u001b[0m     \u001b[38;5;28;01mif\u001b[39;00m x \u001b[38;5;129;01mis\u001b[39;00m \u001b[38;5;129;01mnot\u001b[39;00m np\u001b[38;5;241m.\u001b[39mnan:\n\u001b[0;32m      6\u001b[0m         \u001b[38;5;28mprint\u001b[39m(x)\n\u001b[1;32m----> 7\u001b[0m         value ,freq\u001b[38;5;241m=\u001b[39m x\u001b[38;5;241m.\u001b[39msplit(\u001b[38;5;124m\"\u001b[39m\u001b[38;5;124m|\u001b[39m\u001b[38;5;124m\"\u001b[39m)\n\u001b[0;32m      8\u001b[0m         new_values\u001b[38;5;241m.\u001b[39mappend([\u001b[38;5;28mint\u001b[39m(freq),value])\n\u001b[0;32m      9\u001b[0m \u001b[38;5;28;01mreturn\u001b[39;00m new_values\n",
      "\u001b[1;31mValueError\u001b[0m: not enough values to unpack (expected 2, got 1)"
     ]
    }
   ],
   "source": [
    "\n",
    "def get_values(result,touken=False):\n",
    "    allx = []\n",
    "    new_values = []\n",
    "    for x in recomanded[1:]:\n",
    "        if x is not np.nan:\n",
    "            print(x)\n",
    "            value ,freq= x.split(\"|\")\n",
    "            new_values.append([int(freq),value])\n",
    "    return new_values\n",
    "\n",
    "def get_probibilties(possiblities:list[str],threshold=0.1):\n",
    "    total = 0\n",
    "    probs = []\n",
    "    new_possiblities = []\n",
    "    for pos in possiblities :\n",
    "        total+=pos[0]\n",
    "    for i,pos in enumerate(possiblities) :\n",
    "        new_possiblities.append([pos[0]/total,pos[1]])\n",
    "        probs.append(pos[0]/total)\n",
    "    \n",
    "    if all(prob >threshold for prob in probs) :\n",
    "        return new_possiblities\n",
    "    else :\n",
    "        possiblities = [possiblities[i] for i,prob in enumerate(probs) if prob > threshold]\n",
    "        return get_probibilties(possiblities,threshold=threshold)\n",
    "\n",
    "def sample_distrubtion(probs):\n",
    "    probilities , values = zip(*probs)\n",
    "\n",
    "    ran_value = np.random.choice(values,p=probilities)\n",
    "\n",
    "    return ran_value\n",
    "\n",
    "def reccomand(text:str,thershold=0.1):\n",
    "    word = text.split(\" \")\n",
    "    word = word[-1]\n",
    "    result = corpus.loc[corpus[\"name\"]==word].squeeze()\n",
    "    result = get_values(result)\n",
    "    probs = get_probibilties(result,threshold=thershold)\n",
    "    recomanded = sample_distrubtion(probs)\n",
    "\n",
    "    return recomanded\n",
    "text = \"فاز ليونيل\"\n",
    "\n",
    "recomanded = reccomand(text)\n",
    "print(recomanded)\n",
    "\n",
    "\n",
    "\n",
    "# x = [reccomand(text) for i in range(1000)]"
   ]
  },
  {
   "cell_type": "code",
   "execution_count": 124,
   "metadata": {},
   "outputs": [
    {
     "data": {
      "text/plain": [
       "(array([   0.,    0.,    0.,    0.,    0., 1000.,    0.,    0.,    0.,\n",
       "           0.]),\n",
       " array([-0.5, -0.4, -0.3, -0.2, -0.1,  0. ,  0.1,  0.2,  0.3,  0.4,  0.5]),\n",
       " <BarContainer object of 10 artists>)"
      ]
     },
     "execution_count": 124,
     "metadata": {},
     "output_type": "execute_result"
    },
    {
     "data": {
      "image/png": "[encoded data removed]",
      "text/plain": [
       "<Figure size 432x288 with 1 Axes>"
      ]
     },
     "metadata": {
      "needs_background": "light"
     },
     "output_type": "display_data"
    }
   ],
   "source": [
    "import matplotlib.pyplot as plt \n",
    "\n",
    "plt.hist(x)"
   ]
  }
 ],
 "metadata": {
  "kernelspec": {
   "display_name": "Python 3",
   "language": "python",
   "name": "python3"
  },
  "language_info": {
   "codemirror_mode": {
    "name": "ipython",
    "version": 3
   },
   "file_extension": ".py",
   "mimetype": "text/x-python",
   "name": "python",
   "nbconvert_exporter": "python",
   "pygments_lexer": "ipython3",
   "version": "3.9.7"
  }
 },
 "nbformat": 4,
 "nbformat_minor": 2
}
