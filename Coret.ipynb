{
 "cells": [
  {
   "cell_type": "code",
   "execution_count": 1,
   "metadata": {},
   "outputs": [],
   "source": [
    "import numpy as np \n",
    "import pandas as pd \n",
    "import spacy as sp \n",
    "from collections import Counter\n",
    "import os \n",
    "import re"
   ]
  },
  {
   "cell_type": "code",
   "execution_count": 2,
   "metadata": {},
   "outputs": [
    {
     "name": "stdout",
     "output_type": "stream",
     "text": [
      "N of files :6500\n"
     ]
    }
   ],
   "source": [
    "DATA_DIR = \"D:\\\\df\\\\ai\\\\arabic_articls\\\\Sports\"\n",
    "FILES = os.listdir(DATA_DIR)\n",
    "print(f\"N of files :{len(FILES)}\")"
   ]
  },
  {
   "cell_type": "code",
   "execution_count": 3,
   "metadata": {},
   "outputs": [],
   "source": [
    "text_test = \"(30 عاماً)s fdsfs **\"\n",
    "def get_matches(text):\n",
    "    regular_expertion = r\"\\(.*?\\)|[0-9|\\-]+\"\n",
    "    try :\n",
    "        regex = re.compile(regular_expertion)\n",
    "        matches = regex.findall(text)\n",
    "        return matches\n",
    "    except:\n",
    "        return None\n",
    "\n",
    "def replace_matches(text:str):\n",
    "    matches = get_matches(text)\n",
    "    if matches is None :\n",
    "        return text\n",
    "    for match in matches :\n",
    "        text = text.replace(match,\"[توكن]\",1)\n",
    "    return text\n",
    "\n",
    "def cleaning(text:str):\n",
    "    stop = [\"»\",\"«\",\"#\",\"&\",\"*\"]\n",
    "    for char in stop:\n",
    "        text = text.replace(char,\"\")\n",
    "    return text "
   ]
  },
  {
   "cell_type": "code",
   "execution_count": 4,
   "metadata": {},
   "outputs": [
    {
     "name": "stdout",
     "output_type": "stream",
     "text": [
      "أعلن ريال مدريد الإسباني بطل أوروبا أمس تمديد عقد لاعب الوسط الألماني طوني كروس حتى 2022، وجاء في بيان للنادي الإسباني «إن ريال مدريد وطوني كروس توصلا إلى اتفاق حول تمديد عقد اللاعب الذي سيرتبط بالنادي حتى 30 يونيو/‏حزيران 2022»، وكان عقد كروس (26 عاماً، 74 مباراة دولية) ينتهي أصلاً في 2020.وانضم كروس الفائز مع منتخب بلاده بكأس العالم 2014 في البرازيل إلى ريال مدريد آتياً من بايرن ميونيخ الألماني في 2014 مقابل 25 مليون يورو.ومن أبرز إنجازات كروس مع ريال مدريد، التتويج بدوري أبطال أوروبا في مايو/‏أيار الماضي عقب الفوز على فريق العاصمة الآخر اتلتيكو بركلات الترجيح 5-3 بعد التعادل في الوقتين الأصلي والإضافي 1-1.وخاض النجم الألماني 108 مباريات مع ريال مدريد حتى الآن، سجل فيها أربعة أهداف.\n",
      "['2022', '30', '2022', '(26 عاماً، 74 مباراة دولية)', '2020', '2014', '2014', '25', '5-3', '1-1', '108']\n",
      "أعلن ريال مدريد الإسباني بطل أوروبا أمس تمديد عقد لاعب الوسط الألماني طوني كروس حتى [توكن]، وجاء في بيان للنادي الإسباني إن ريال مدريد وطوني كروس توصلا إلى اتفاق حول تمديد عقد اللاعب الذي سيرتبط بالنادي حتى [توكن] يونيو/‏حزيران [توكن]، وكان عقد كروس [توكن] ينتهي أصلاً في [توكن].وانضم كروس الفائز مع منتخب بلاده بكأس العالم [توكن] في البرازيل إلى ريال مدريد آتياً من بايرن ميونيخ الألماني في [توكن] مقابل [توكن] مليون يورو.ومن أبرز إنجازات كروس مع ريال مدريد، التتويج بدوري أبطال أوروبا في مايو/‏أيار الماضي عقب الفوز على فريق العاصمة الآخر اتلتيكو بركلات الترجيح [توكن] بعد التعادل في الوقتين الأصلي والإضافي [توكن].وخاض النجم الألماني [توكن] مباريات مع ريال مدريد حتى الآن، سجل فيها أربعة أهداف.\n"
     ]
    }
   ],
   "source": [
    "with open(os.path.join(DATA_DIR,FILES[4]),encoding=\"UTf-8\") as file :\n",
    "    text = file.read()\n",
    "print(text)\n",
    "matches = get_matches(text)\n",
    "print(matches)\n",
    "print(cleaning(replace_matches(text)))\n"
   ]
  },
  {
   "cell_type": "code",
   "execution_count": 5,
   "metadata": {},
   "outputs": [],
   "source": [
    "texts = []\n",
    "for file in FILES :\n",
    "    with open(os.path.join(DATA_DIR,file),encoding=\"UTf-8\") as file :\n",
    "        text = file.read()\n",
    "        texts.append(cleaning(replace_matches(text)))"
   ]
  }
 ],
 "metadata": {
  "kernelspec": {
   "display_name": "Python 3",
   "language": "python",
   "name": "python3"
  },
  "language_info": {
   "codemirror_mode": {
    "name": "ipython",
    "version": 3
   },
   "file_extension": ".py",
   "mimetype": "text/x-python",
   "name": "python",
   "nbconvert_exporter": "python",
   "pygments_lexer": "ipython3",
   "version": "3.9.7"
  }
 },
 "nbformat": 4,
 "nbformat_minor": 2
}
